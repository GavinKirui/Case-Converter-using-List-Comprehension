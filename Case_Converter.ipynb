{
  "nbformat": 4,
  "nbformat_minor": 0,
  "metadata": {
    "colab": {
      "provenance": []
    },
    "kernelspec": {
      "name": "python3",
      "display_name": "Python 3"
    },
    "language_info": {
      "name": "python"
    }
  },
  "cells": [
    {
      "cell_type": "code",
      "execution_count": 1,
      "metadata": {
        "colab": {
          "base_uri": "https://localhost:8080/"
        },
        "id": "URaGdmE-hrAQ",
        "outputId": "674d3d52-d65b-4b44-95e2-2b91c19f4e4b"
      },
      "outputs": [
        {
          "output_type": "stream",
          "name": "stdout",
          "text": [
            "i_am_a_pascal_cased_string\n"
          ]
        }
      ],
      "source": [
        "def convert_to_snake_case(pascal_or_camel_cased_string):\n",
        "\n",
        "    snake_cased_char_list = ['_' + char.lower() if char.isupper() else char for char in pascal_or_camel_cased_string]\n",
        "\n",
        "    return ''.join(snake_cased_char_list).strip('_')\n",
        "\n",
        "def main():\n",
        "    print(convert_to_snake_case('IAmAPascalCasedString'))\n",
        "\n",
        "\n",
        "\n",
        "main()"
      ]
    }
  ]
}